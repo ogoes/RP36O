{
 "metadata": {
  "language_info": {
   "codemirror_mode": {
    "name": "ipython",
    "version": 3
   },
   "file_extension": ".py",
   "mimetype": "text/x-python",
   "name": "python",
   "nbconvert_exporter": "python",
   "pygments_lexer": "ipython3",
   "version": 3
  },
  "orig_nbformat": 2,
  "kernelspec": {
   "name": "python_defaultSpec_1596842939250",
   "display_name": "Python 3.8.5 64-bit ('env': venv)"
  }
 },
 "nbformat": 4,
 "nbformat_minor": 2,
 "cells": [
  {
   "cell_type": "markdown",
   "metadata": {},
   "source": [
    "# Fonte de Dados\n",
    "\n",
    "Este módulo servirá de base para a análise dos dados. O intuido deste serviço é gerar dados a partir da base de leituras sensoriais do SSVE, para que haja uma simulação da leitura real.\n",
    "O serviço será gerenciado a partir de um arquivo de configurações que possui informações como a taxa de envio de informações, informações do protocolo de comunicação e a base de dados usada.\n"
   ]
  }
 ]
}